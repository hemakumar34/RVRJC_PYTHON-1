{
 "cells": [
  {
   "cell_type": "code",
   "execution_count": 32,
   "id": "4dbd2d2a",
   "metadata": {},
   "outputs": [
    {
     "name": "stdout",
     "output_type": "stream",
     "text": [
      "1\n",
      "2\n",
      "3\n",
      "4\n",
      "[[0, 0, 0], [0, 0, 1], [0, 0, 2], [0, 0, 3], [0, 1, 0], [0, 1, 1], [0, 1, 2], [0, 2, 0], [0, 2, 1], [0, 2, 3], [1, 0, 0], [1, 0, 1], [1, 0, 2], [1, 1, 0], [1, 1, 1], [1, 1, 3], [1, 2, 0], [1, 2, 2], [1, 2, 3]]\n"
     ]
    }
   ],
   "source": [
    "    # list comprehensions\n",
    "    x = int(input())\n",
    "    y = int(input())\n",
    "    z = int(input())\n",
    "    n = int(input())\n",
    "    li=[]\n",
    "    output=[]\n",
    "    for i in range(0,x+1):\n",
    "        for j in range(0,y+1):\n",
    "            for k in range(0,z+1):\n",
    "                if i+j+k!=n:\n",
    "                    li=[i,j,k]\n",
    "                    output.append(li)\n",
    "    print(output)"
   ]
  },
  {
   "cell_type": "code",
   "execution_count": null,
   "id": "144d3d23",
   "metadata": {},
   "outputs": [],
   "source": []
  },
  {
   "cell_type": "code",
   "execution_count": 39,
   "id": "9666d3fb",
   "metadata": {},
   "outputs": [
    {
     "name": "stdout",
     "output_type": "stream",
     "text": [
      "5\n",
      "-7\n",
      "-7\n",
      "-7\n",
      "-7\n",
      "6\n",
      "-7\n"
     ]
    }
   ],
   "source": [
    "# Runner Up Score\n",
    "n=int(input())\n",
    "k=[]\n",
    "for i in range(0,n):\n",
    "    l=input()\n",
    "    k.append(l)\n",
    "k=set(k)\n",
    "k=list(k)\n",
    "k.sort()\n",
    "print(k[-2])\n",
    "    "
   ]
  },
  {
   "cell_type": "code",
   "execution_count": 56,
   "id": "b52ff4c1",
   "metadata": {},
   "outputs": [
    {
     "name": "stdout",
     "output_type": "stream",
     "text": [
      "4\n",
      "rachel\n",
      "-50\n",
      "Mawer\n",
      "-50\n",
      "sheen\n",
      "-50\n",
      "shaheen\n",
      "51\n",
      "['Mawer', 'rachel', 'sheen']\n",
      "Mawer\n",
      "rachel\n",
      "sheen\n"
     ]
    }
   ],
   "source": [
    "# Nested Lsts\n",
    "li=[]\n",
    "li1=[]\n",
    "li2=[]\n",
    "for i in range(int(input())):\n",
    "    name = input()\n",
    "    score = float(input())\n",
    "    details=[name,score]\n",
    "    li.append(details)      \n",
    "for i in range(len(li)):\n",
    "    li1.append(li[i][1])\n",
    "li1.sort()\n",
    "li1=set(li1)\n",
    "li1=list(li1)\n",
    "k=li1[1]\n",
    "for i in range(0,3):\n",
    "    if li[i][1]==k:\n",
    "        li2.append(li[i][0])\n",
    "li2.sort()\n",
    "print(li2)\n",
    "for i in range(len(li2)):\n",
    "    print(li2[i]) \n",
    "\n",
    "\n",
    "\n",
    "\n"
   ]
  },
  {
   "cell_type": "code",
   "execution_count": 7,
   "id": "3889e586",
   "metadata": {},
   "outputs": [
    {
     "data": {
      "text/plain": [
       "[['harsha', 34.5], ['rocky', 54.5], ['7 hills', 76.5]]"
      ]
     },
     "execution_count": 7,
     "metadata": {},
     "output_type": "execute_result"
    }
   ],
   "source": []
  },
  {
   "cell_type": "code",
   "execution_count": 8,
   "id": "c19cc300",
   "metadata": {},
   "outputs": [
    {
     "data": {
      "text/plain": [
       "[['harsha', 34.5]]"
      ]
     },
     "execution_count": 8,
     "metadata": {},
     "output_type": "execute_result"
    }
   ],
   "source": [
    "li[0:1:1]"
   ]
  },
  {
   "cell_type": "code",
   "execution_count": 9,
   "id": "5c123e8d",
   "metadata": {},
   "outputs": [
    {
     "data": {
      "text/plain": [
       "[]"
      ]
     },
     "execution_count": 9,
     "metadata": {},
     "output_type": "execute_result"
    }
   ],
   "source": [
    "li[1:1]"
   ]
  },
  {
   "cell_type": "code",
   "execution_count": 10,
   "id": "2f0e0935",
   "metadata": {},
   "outputs": [
    {
     "data": {
      "text/plain": [
       "[['harsha', 34.5], ['rocky', 54.5], ['7 hills', 76.5]]"
      ]
     },
     "execution_count": 10,
     "metadata": {},
     "output_type": "execute_result"
    }
   ],
   "source": [
    "li"
   ]
  },
  {
   "cell_type": "code",
   "execution_count": 29,
   "id": "b053b496",
   "metadata": {},
   "outputs": [
    {
     "ename": "TypeError",
     "evalue": "slice indices must be integers or None or have an __index__ method",
     "output_type": "error",
     "traceback": [
      "\u001b[1;31m---------------------------------------------------------------------------\u001b[0m",
      "\u001b[1;31mTypeError\u001b[0m                                 Traceback (most recent call last)",
      "\u001b[1;32m<ipython-input-29-db7a7fc5bcfc>\u001b[0m in \u001b[0;36m<module>\u001b[1;34m\u001b[0m\n\u001b[1;32m----> 1\u001b[1;33m \u001b[0mli\u001b[0m\u001b[1;33m[\u001b[0m\u001b[1;33m[\u001b[0m\u001b[1;36m0\u001b[0m\u001b[1;33m]\u001b[0m\u001b[1;33m:\u001b[0m\u001b[1;36m1\u001b[0m\u001b[1;33m]\u001b[0m\u001b[1;33m\u001b[0m\u001b[1;33m\u001b[0m\u001b[0m\n\u001b[0m",
      "\u001b[1;31mTypeError\u001b[0m: slice indices must be integers or None or have an __index__ method"
     ]
    }
   ],
   "source": [
    "li[[0]:1]"
   ]
  },
  {
   "cell_type": "markdown",
   "id": "1d0cd6fc",
   "metadata": {},
   "source": [
    "### "
   ]
  },
  {
   "cell_type": "code",
   "execution_count": 41,
   "id": "9daa2030",
   "metadata": {},
   "outputs": [
    {
     "ename": "ValueError",
     "evalue": "34.5 is not in list",
     "output_type": "error",
     "traceback": [
      "\u001b[1;31m---------------------------------------------------------------------------\u001b[0m",
      "\u001b[1;31mValueError\u001b[0m                                Traceback (most recent call last)",
      "\u001b[1;32m<ipython-input-41-a2bdb1c68f62>\u001b[0m in \u001b[0;36m<module>\u001b[1;34m\u001b[0m\n\u001b[1;32m----> 1\u001b[1;33m \u001b[0mli\u001b[0m\u001b[1;33m.\u001b[0m\u001b[0mindex\u001b[0m\u001b[1;33m(\u001b[0m\u001b[1;36m34.5\u001b[0m\u001b[1;33m)\u001b[0m\u001b[1;33m\u001b[0m\u001b[1;33m\u001b[0m\u001b[0m\n\u001b[0m",
      "\u001b[1;31mValueError\u001b[0m: 34.5 is not in list"
     ]
    }
   ],
   "source": [
    "li.index(34.5)"
   ]
  },
  {
   "cell_type": "code",
   "execution_count": 16,
   "id": "c96a8c1d",
   "metadata": {},
   "outputs": [
    {
     "name": "stdout",
     "output_type": "stream",
     "text": [
      "harSHA\n",
      "\n",
      "\n",
      "\n",
      "3\n",
      "(\n",
      "!\n",
      "3(!\n"
     ]
    }
   ],
   "source": [
    "def swap_case(s):\n",
    "    s=list(s)\n",
    "    for i in range(0,len(s)):\n",
    "        if s[i]>=\"a\" and s[i]<=\"z\":\n",
    "             s[i].upper()\n",
    "        if s[i]>=\"A\" and s[i]<=\"Z\":\n",
    "             s[i].lower()\n",
    "            print(s[i])\n",
    "    k=''\n",
    "    for i in range(0,len(s)):\n",
    "        k+=s[i]\n",
    "    \n",
    "    return(k)\n",
    "\n",
    "\n",
    "\n",
    "\n",
    "if __name__ == '__main__':\n",
    "    s = input()\n",
    "    result = swap_case(s)\n",
    "    print(result)"
   ]
  },
  {
   "cell_type": "code",
   "execution_count": 15,
   "id": "fc188acc",
   "metadata": {},
   "outputs": [
    {
     "name": "stdout",
     "output_type": "stream",
     "text": [
      "HARSA is harsha\n",
      "harsa IS HARSHA\n"
     ]
    }
   ],
   "source": [
    "def swap_case(s):\n",
    "\n",
    "    # sWAP cASE in Python - HackerRank Solution START\n",
    "    Output = '';\n",
    "    for char in s:\n",
    "        if(char.isupper()==True):\n",
    "            Output += (char.lower());\n",
    "        elif(char.islower()==True):\n",
    "            Output += (char.upper());\n",
    "        else:\n",
    "            Output += char;\n",
    "    return Output;\n",
    "    # sWAP cASE in Python - HackerRank Solution END\n",
    "\n",
    "if __name__ == '__main__':\n",
    "    s = input()\n",
    "    result = swap_case(s)\n",
    "    print(result)"
   ]
  },
  {
   "cell_type": "code",
   "execution_count": 5,
   "id": "7a08b30b",
   "metadata": {},
   "outputs": [
    {
     "name": "stdout",
     "output_type": "stream",
     "text": [
      "4\n",
      "9 9 9 9\n",
      "<map object at 0x00000147771196D0>\n"
     ]
    }
   ],
   "source": [
    "n = int(input())\n",
    "integer_list = map(int, input().split())\n",
    "print(integer_list)"
   ]
  },
  {
   "cell_type": "code",
   "execution_count": 9,
   "id": "f0087076",
   "metadata": {},
   "outputs": [
    {
     "data": {
      "text/plain": [
       "-1354871436453618360"
      ]
     },
     "execution_count": 9,
     "metadata": {},
     "output_type": "execute_result"
    }
   ],
   "source": [
    "hash(\"gt\")"
   ]
  },
  {
   "cell_type": "code",
   "execution_count": 10,
   "id": "85e86187",
   "metadata": {},
   "outputs": [],
   "source": [
    "t=()"
   ]
  },
  {
   "cell_type": "code",
   "execution_count": 11,
   "id": "49920aa4",
   "metadata": {},
   "outputs": [
    {
     "data": {
      "text/plain": [
       "tuple"
      ]
     },
     "execution_count": 11,
     "metadata": {},
     "output_type": "execute_result"
    }
   ],
   "source": [
    "type(t)"
   ]
  },
  {
   "cell_type": "code",
   "execution_count": 15,
   "id": "027358f8",
   "metadata": {},
   "outputs": [
    {
     "ename": "TypeError",
     "evalue": "can only concatenate tuple (not \"int\") to tuple",
     "output_type": "error",
     "traceback": [
      "\u001b[1;31m---------------------------------------------------------------------------\u001b[0m",
      "\u001b[1;31mTypeError\u001b[0m                                 Traceback (most recent call last)",
      "\u001b[1;32m<ipython-input-15-a8590f732135>\u001b[0m in \u001b[0;36m<module>\u001b[1;34m\u001b[0m\n\u001b[1;32m----> 1\u001b[1;33m \u001b[0mt\u001b[0m\u001b[1;33m.\u001b[0m\u001b[0m__add__\u001b[0m\u001b[1;33m(\u001b[0m\u001b[1;36m2\u001b[0m\u001b[1;33m)\u001b[0m\u001b[1;33m\u001b[0m\u001b[1;33m\u001b[0m\u001b[0m\n\u001b[0m",
      "\u001b[1;31mTypeError\u001b[0m: can only concatenate tuple (not \"int\") to tuple"
     ]
    }
   ],
   "source": [
    "t.__add__(2)"
   ]
  },
  {
   "cell_type": "code",
   "execution_count": 13,
   "id": "0eda890c",
   "metadata": {},
   "outputs": [
    {
     "data": {
      "text/plain": [
       "['__add__',\n",
       " '__class__',\n",
       " '__contains__',\n",
       " '__delattr__',\n",
       " '__dir__',\n",
       " '__doc__',\n",
       " '__eq__',\n",
       " '__format__',\n",
       " '__ge__',\n",
       " '__getattribute__',\n",
       " '__getitem__',\n",
       " '__getnewargs__',\n",
       " '__gt__',\n",
       " '__hash__',\n",
       " '__init__',\n",
       " '__init_subclass__',\n",
       " '__iter__',\n",
       " '__le__',\n",
       " '__len__',\n",
       " '__lt__',\n",
       " '__mul__',\n",
       " '__ne__',\n",
       " '__new__',\n",
       " '__reduce__',\n",
       " '__reduce_ex__',\n",
       " '__repr__',\n",
       " '__rmul__',\n",
       " '__setattr__',\n",
       " '__sizeof__',\n",
       " '__str__',\n",
       " '__subclasshook__',\n",
       " 'count',\n",
       " 'index']"
      ]
     },
     "execution_count": 13,
     "metadata": {},
     "output_type": "execute_result"
    }
   ],
   "source": [
    "dir(t)"
   ]
  },
  {
   "cell_type": "code",
   "execution_count": 25,
   "id": "11c2bed0",
   "metadata": {},
   "outputs": [
    {
     "name": "stdout",
     "output_type": "stream",
     "text": [
      "3\n",
      "1\n",
      "2\n",
      "3\n"
     ]
    },
    {
     "ename": "AttributeError",
     "evalue": "'list' object has no attribute 'split'",
     "output_type": "error",
     "traceback": [
      "\u001b[1;31m---------------------------------------------------------------------------\u001b[0m",
      "\u001b[1;31mAttributeError\u001b[0m                            Traceback (most recent call last)",
      "\u001b[1;32m<ipython-input-25-9636388c440b>\u001b[0m in \u001b[0;36m<module>\u001b[1;34m\u001b[0m\n\u001b[0;32m      3\u001b[0m \u001b[1;32mfor\u001b[0m \u001b[0mi\u001b[0m \u001b[1;32min\u001b[0m \u001b[0mrange\u001b[0m\u001b[1;33m(\u001b[0m\u001b[1;36m0\u001b[0m\u001b[1;33m,\u001b[0m\u001b[0mn\u001b[0m\u001b[1;33m)\u001b[0m\u001b[1;33m:\u001b[0m\u001b[1;33m\u001b[0m\u001b[1;33m\u001b[0m\u001b[0m\n\u001b[0;32m      4\u001b[0m     \u001b[0mt\u001b[0m\u001b[1;33m.\u001b[0m\u001b[0mappend\u001b[0m\u001b[1;33m(\u001b[0m\u001b[0minput\u001b[0m\u001b[1;33m(\u001b[0m\u001b[1;33m)\u001b[0m\u001b[1;33m)\u001b[0m\u001b[1;33m\u001b[0m\u001b[1;33m\u001b[0m\u001b[0m\n\u001b[1;32m----> 5\u001b[1;33m \u001b[0mt\u001b[0m\u001b[1;33m.\u001b[0m\u001b[0msplit\u001b[0m\u001b[1;33m(\u001b[0m\u001b[1;33m)\u001b[0m\u001b[1;33m\u001b[0m\u001b[1;33m\u001b[0m\u001b[0m\n\u001b[0m\u001b[0;32m      6\u001b[0m \u001b[0mprint\u001b[0m\u001b[1;33m(\u001b[0m\u001b[0mt\u001b[0m\u001b[1;33m)\u001b[0m\u001b[1;33m\u001b[0m\u001b[1;33m\u001b[0m\u001b[0m\n\u001b[0;32m      7\u001b[0m \u001b[0mt\u001b[0m\u001b[1;33m=\u001b[0m\u001b[0mtuple\u001b[0m\u001b[1;33m(\u001b[0m\u001b[0mt\u001b[0m\u001b[1;33m)\u001b[0m\u001b[1;33m\u001b[0m\u001b[1;33m\u001b[0m\u001b[0m\n",
      "\u001b[1;31mAttributeError\u001b[0m: 'list' object has no attribute 'split'"
     ]
    }
   ],
   "source": [
    "n=int(input())\n",
    "t=[]\n",
    "for i in range(0,n):\n",
    "    t.append(input())\n",
    "t.split()    \n",
    "print(t)\n",
    "t=tuple(t)\n",
    "print(t)\n",
    "hash(t)"
   ]
  },
  {
   "cell_type": "code",
   "execution_count": 23,
   "id": "c73bef79",
   "metadata": {},
   "outputs": [
    {
     "name": "stdout",
     "output_type": "stream",
     "text": [
      "harsha\n",
      "['h', 'a', 'r', 's', 'h', 'a']\n"
     ]
    }
   ],
   "source": [
    "k=input()\n",
    "k=list(k)\n",
    "\n",
    "print(k)"
   ]
  },
  {
   "cell_type": "code",
   "execution_count": 26,
   "id": "58ade483",
   "metadata": {},
   "outputs": [
    {
     "data": {
      "text/plain": [
       "['__add__',\n",
       " '__class__',\n",
       " '__contains__',\n",
       " '__delattr__',\n",
       " '__delitem__',\n",
       " '__dir__',\n",
       " '__doc__',\n",
       " '__eq__',\n",
       " '__format__',\n",
       " '__ge__',\n",
       " '__getattribute__',\n",
       " '__getitem__',\n",
       " '__gt__',\n",
       " '__hash__',\n",
       " '__iadd__',\n",
       " '__imul__',\n",
       " '__init__',\n",
       " '__init_subclass__',\n",
       " '__iter__',\n",
       " '__le__',\n",
       " '__len__',\n",
       " '__lt__',\n",
       " '__mul__',\n",
       " '__ne__',\n",
       " '__new__',\n",
       " '__reduce__',\n",
       " '__reduce_ex__',\n",
       " '__repr__',\n",
       " '__reversed__',\n",
       " '__rmul__',\n",
       " '__setattr__',\n",
       " '__setitem__',\n",
       " '__sizeof__',\n",
       " '__str__',\n",
       " '__subclasshook__',\n",
       " 'append',\n",
       " 'clear',\n",
       " 'copy',\n",
       " 'count',\n",
       " 'extend',\n",
       " 'index',\n",
       " 'insert',\n",
       " 'pop',\n",
       " 'remove',\n",
       " 'reverse',\n",
       " 'sort']"
      ]
     },
     "execution_count": 26,
     "metadata": {},
     "output_type": "execute_result"
    }
   ],
   "source": [
    "dir(t)"
   ]
  },
  {
   "cell_type": "code",
   "execution_count": 28,
   "id": "fd652f55",
   "metadata": {},
   "outputs": [
    {
     "name": "stdout",
     "output_type": "stream",
     "text": [
      "killer\n"
     ]
    }
   ],
   "source": [
    "s=input()"
   ]
  },
  {
   "cell_type": "code",
   "execution_count": 29,
   "id": "dc0be9c5",
   "metadata": {},
   "outputs": [
    {
     "data": {
      "text/plain": [
       "str"
      ]
     },
     "execution_count": 29,
     "metadata": {},
     "output_type": "execute_result"
    }
   ],
   "source": [
    "type(s)"
   ]
  },
  {
   "cell_type": "code",
   "execution_count": 30,
   "id": "71cfa2d5",
   "metadata": {},
   "outputs": [
    {
     "ename": "AttributeError",
     "evalue": "'str' object has no attribute 'spilt'",
     "output_type": "error",
     "traceback": [
      "\u001b[1;31m---------------------------------------------------------------------------\u001b[0m",
      "\u001b[1;31mAttributeError\u001b[0m                            Traceback (most recent call last)",
      "\u001b[1;32m<ipython-input-30-f80b8981f5b0>\u001b[0m in \u001b[0;36m<module>\u001b[1;34m\u001b[0m\n\u001b[1;32m----> 1\u001b[1;33m \u001b[0ms\u001b[0m\u001b[1;33m.\u001b[0m\u001b[0mspilt\u001b[0m\u001b[1;33m(\u001b[0m\u001b[1;33m)\u001b[0m\u001b[1;33m\u001b[0m\u001b[1;33m\u001b[0m\u001b[0m\n\u001b[0m",
      "\u001b[1;31mAttributeError\u001b[0m: 'str' object has no attribute 'spilt'"
     ]
    }
   ],
   "source": [
    "s.spilt()"
   ]
  },
  {
   "cell_type": "code",
   "execution_count": 31,
   "id": "c6a4b3f0",
   "metadata": {},
   "outputs": [
    {
     "ename": "NameError",
     "evalue": "name 'split' is not defined",
     "output_type": "error",
     "traceback": [
      "\u001b[1;31m---------------------------------------------------------------------------\u001b[0m",
      "\u001b[1;31mNameError\u001b[0m                                 Traceback (most recent call last)",
      "\u001b[1;32m<ipython-input-31-ccd3115ff6c9>\u001b[0m in \u001b[0;36m<module>\u001b[1;34m\u001b[0m\n\u001b[1;32m----> 1\u001b[1;33m \u001b[0mdir\u001b[0m\u001b[1;33m(\u001b[0m\u001b[0msplit\u001b[0m\u001b[1;33m)\u001b[0m\u001b[1;33m\u001b[0m\u001b[1;33m\u001b[0m\u001b[0m\n\u001b[0m",
      "\u001b[1;31mNameError\u001b[0m: name 'split' is not defined"
     ]
    }
   ],
   "source": [
    "dir(split)"
   ]
  },
  {
   "cell_type": "code",
   "execution_count": null,
   "id": "eccd656a",
   "metadata": {},
   "outputs": [
    {
     "name": "stdout",
     "output_type": "stream",
     "text": [
      "\n",
      "Welcome to Python 3.8's help utility!\n",
      "\n",
      "If this is your first time using Python, you should definitely check out\n",
      "the tutorial on the Internet at https://docs.python.org/3.8/tutorial/.\n",
      "\n",
      "Enter the name of any module, keyword, or topic to get help on writing\n",
      "Python programs and using Python modules.  To quit this help utility and\n",
      "return to the interpreter, just type \"quit\".\n",
      "\n",
      "To get a list of available modules, keywords, symbols, or topics, type\n",
      "\"modules\", \"keywords\", \"symbols\", or \"topics\".  Each module also comes\n",
      "with a one-line summary of what it does; to list the modules whose name\n",
      "or summary contain a given string such as \"spam\", type \"modules spam\".\n",
      "\n",
      "help> split\n",
      "No Python documentation found for 'split'.\n",
      "Use help() to get the interactive help utility.\n",
      "Use help(str) for help on the str class.\n",
      "\n"
     ]
    }
   ],
   "source": [
    "help()"
   ]
  },
  {
   "cell_type": "code",
   "execution_count": 32,
   "id": "fadb57fe",
   "metadata": {},
   "outputs": [],
   "source": [
    "s=\"harsha IS A student @#$%^\""
   ]
  },
  {
   "cell_type": "code",
   "execution_count": 41,
   "id": "cff32655",
   "metadata": {},
   "outputs": [
    {
     "ename": "TypeError",
     "evalue": "'str' object does not support item assignment",
     "output_type": "error",
     "traceback": [
      "\u001b[1;31m---------------------------------------------------------------------------\u001b[0m",
      "\u001b[1;31mTypeError\u001b[0m                                 Traceback (most recent call last)",
      "\u001b[1;32m<ipython-input-41-da25d9262e8e>\u001b[0m in \u001b[0;36m<module>\u001b[1;34m\u001b[0m\n\u001b[0;32m      3\u001b[0m         \u001b[0ms\u001b[0m\u001b[1;33m[\u001b[0m\u001b[0ms\u001b[0m\u001b[1;33m.\u001b[0m\u001b[0mindex\u001b[0m\u001b[1;33m(\u001b[0m\u001b[0mi\u001b[0m\u001b[1;33m)\u001b[0m\u001b[1;33m]\u001b[0m\u001b[1;33m=\u001b[0m\u001b[0mi\u001b[0m\u001b[1;33m.\u001b[0m\u001b[0mlower\u001b[0m\u001b[1;33m(\u001b[0m\u001b[1;33m)\u001b[0m\u001b[1;33m\u001b[0m\u001b[1;33m\u001b[0m\u001b[0m\n\u001b[0;32m      4\u001b[0m     \u001b[1;32mif\u001b[0m \u001b[0mi\u001b[0m\u001b[1;33m.\u001b[0m\u001b[0mislower\u001b[0m\u001b[1;33m(\u001b[0m\u001b[1;33m)\u001b[0m\u001b[1;33m==\u001b[0m\u001b[1;32mTrue\u001b[0m\u001b[1;33m:\u001b[0m\u001b[1;33m\u001b[0m\u001b[1;33m\u001b[0m\u001b[0m\n\u001b[1;32m----> 5\u001b[1;33m         \u001b[0ms\u001b[0m\u001b[1;33m[\u001b[0m\u001b[0ms\u001b[0m\u001b[1;33m.\u001b[0m\u001b[0mindex\u001b[0m\u001b[1;33m(\u001b[0m\u001b[0mi\u001b[0m\u001b[1;33m)\u001b[0m\u001b[1;33m]\u001b[0m\u001b[1;33m=\u001b[0m\u001b[0mi\u001b[0m\u001b[1;33m.\u001b[0m\u001b[0mupper\u001b[0m\u001b[1;33m(\u001b[0m\u001b[1;33m)\u001b[0m\u001b[1;33m\u001b[0m\u001b[1;33m\u001b[0m\u001b[0m\n\u001b[0m\u001b[0;32m      6\u001b[0m \u001b[0ms\u001b[0m\u001b[1;33m\u001b[0m\u001b[1;33m\u001b[0m\u001b[0m\n",
      "\u001b[1;31mTypeError\u001b[0m: 'str' object does not support item assignment"
     ]
    }
   ],
   "source": [
    "for i in s:\n",
    "    if i.isupper()==True:\n",
    "        s[s.index(i)]=i.lower()\n",
    "    if i.islower()==True:\n",
    "        s[s.index(i)]=i.upper()\n",
    "s"
   ]
  },
  {
   "cell_type": "code",
   "execution_count": 20,
   "id": "fa6af54b",
   "metadata": {},
   "outputs": [
    {
     "data": {
      "text/plain": [
       "136"
      ]
     },
     "execution_count": 20,
     "metadata": {},
     "output_type": "execute_result"
    }
   ],
   "source": [
    "ord(s[0])+32"
   ]
  },
  {
   "cell_type": "code",
   "execution_count": 18,
   "id": "0d5e0906",
   "metadata": {},
   "outputs": [
    {
     "data": {
      "text/plain": [
       "'\\x81'"
      ]
     },
     "execution_count": 18,
     "metadata": {},
     "output_type": "execute_result"
    }
   ],
   "source": [
    "chr(ord(\"a\")+32)"
   ]
  },
  {
   "cell_type": "code",
   "execution_count": 28,
   "id": "300f92cb",
   "metadata": {},
   "outputs": [
    {
     "ename": "LookupError",
     "evalue": "unknown encoding: ",
     "output_type": "error",
     "traceback": [
      "\u001b[1;31m---------------------------------------------------------------------------\u001b[0m",
      "\u001b[1;31mLookupError\u001b[0m                               Traceback (most recent call last)",
      "\u001b[1;32m<ipython-input-28-c34db4c11819>\u001b[0m in \u001b[0;36m<module>\u001b[1;34m\u001b[0m\n\u001b[1;32m----> 1\u001b[1;33m \u001b[0ms\u001b[0m\u001b[1;33m.\u001b[0m\u001b[0mencode\u001b[0m\u001b[1;33m(\u001b[0m\u001b[0mchr\u001b[0m\u001b[1;33m(\u001b[0m\u001b[0mint\u001b[0m\u001b[1;33m(\u001b[0m\u001b[1;36m136\u001b[0m\u001b[1;33m)\u001b[0m\u001b[1;33m)\u001b[0m\u001b[1;33m)\u001b[0m\u001b[1;33m\u001b[0m\u001b[1;33m\u001b[0m\u001b[0m\n\u001b[0m",
      "\u001b[1;31mLookupError\u001b[0m: unknown encoding: "
     ]
    }
   ],
   "source": []
  },
  {
   "cell_type": "code",
   "execution_count": 64,
   "id": "2ec472e6",
   "metadata": {},
   "outputs": [],
   "source": [
    "s='HackerRank.com presents \"Pythonist 2\".'\n"
   ]
  },
  {
   "cell_type": "code",
   "execution_count": 61,
   "id": "4317e0ff",
   "metadata": {},
   "outputs": [
    {
     "data": {
      "text/plain": [
       "\"hACKERrANK.COM PRESENTS 'pYTHONIST 2'.\""
      ]
     },
     "execution_count": 61,
     "metadata": {},
     "output_type": "execute_result"
    }
   ],
   "source": [
    "# swap case\n",
    "output=''\n",
    "for i in s:\n",
    "    if i.isupper()==True:\n",
    "        i=i.lower()\n",
    "        output+=i\n",
    "        continue\n",
    "    if i.islower()==True:\n",
    "        i=i.upper()\n",
    "        output+=i\n",
    "        continue\n",
    "    else:\n",
    "        output+=i\n",
    "output\n"
   ]
  },
  {
   "cell_type": "code",
   "execution_count": null,
   "id": "6ccd7d66",
   "metadata": {},
   "outputs": [],
   "source": [
    "no=int(input())\n",
    "s=[]\n",
    "for i in range(0,no):\n",
    "    s.append(input())\n",
    "for i in range(0,len(s)):\n",
    "     print(s[i],end='')  \n"
   ]
  },
  {
   "cell_type": "code",
   "execution_count": 2,
   "id": "0509e5cb",
   "metadata": {},
   "outputs": [
    {
     "name": "stdout",
     "output_type": "stream",
     "text": [
      "abcdcdc\n",
      "cdc\n",
      "1\n"
     ]
    }
   ],
   "source": [
    "def count_substring(string, sub_string):\n",
    "    return(string.count(sub_string))\n",
    "\n",
    "if __name__ == '__main__':\n",
    "    string = input()\n",
    "    sub_string = input()\n",
    "    \n",
    "    count = count_substring(string, sub_string)\n",
    "    print(count)\n",
    "\n",
    "    "
   ]
  },
  {
   "cell_type": "code",
   "execution_count": 14,
   "id": "1d177a99",
   "metadata": {},
   "outputs": [
    {
     "name": "stdout",
     "output_type": "stream",
     "text": [
      "5\n",
      "1 2 -1 -2 0\n"
     ]
    },
    {
     "data": {
      "text/plain": [
       "['-2', '-1', '0', '1', '2']"
      ]
     },
     "execution_count": 14,
     "metadata": {},
     "output_type": "execute_result"
    }
   ],
   "source": [
    "# runner score in hackersrank\n",
    "    n = int(input())\n",
    "    s=input().split()\n",
    "    s=set(s)\n",
    "    s=list(s)\n",
    "    s=sorted(s)\n",
    "    l=[]\n",
    "    l1=[]\n",
    "    for i in s:\n",
    "        if int(i)<0:\n",
    "            l.append(i)\n",
    "        if int(i)>=0:\n",
    "            l1.append(i)\n",
    "    l=sorted(l,reverse=True)\n",
    "    for i in range(0,len(l1)):\n",
    "        l.append(l1[i])\n",
    "    s=l\n",
    "    if len(s)==2:\n",
    "       print(s[0])\n",
    "    else:\n",
    "       print(s[-2])"
   ]
  },
  {
   "cell_type": "code",
   "execution_count": 2,
   "id": "7b9d9f2c",
   "metadata": {},
   "outputs": [
    {
     "name": "stdout",
     "output_type": "stream",
     "text": [
      "1 2 3 4\n",
      "kiran\n",
      "a b c 1 2 3 -1 -2 @ #\n",
      "rani\n"
     ]
    },
    {
     "data": {
      "text/plain": [
       "{'kiran': ['1', '2', '3', '4'],\n",
       " 'rani': ['a', 'b', 'c', '1', '2', '3', '-1', '-2', '@', '#']}"
      ]
     },
     "execution_count": 2,
     "metadata": {},
     "output_type": "execute_result"
    }
   ],
   "source": [
    "# on dictonary\n",
    "s={}\n",
    "for i in range(0,2):\n",
    "    s[input()]=input().split()\n",
    "s"
   ]
  },
  {
   "cell_type": "code",
   "execution_count": null,
   "id": "c4c24f74",
   "metadata": {},
   "outputs": [],
   "source": [
    "        name, *line = input().split()\n",
    "        scores = list(map(float, line))\n",
    "        student_marks[name] = scores\n",
    "    query_name = input()"
   ]
  },
  {
   "cell_type": "code",
   "execution_count": 2,
   "id": "15e55211",
   "metadata": {},
   "outputs": [
    {
     "name": "stdout",
     "output_type": "stream",
     "text": [
      "2\n",
      "harsha 34.5 65.7 76.8\n",
      "kiran 78.9 67.5 89.6\n",
      "kiran\n",
      "78.66666666666667\n"
     ]
    }
   ],
   "source": [
    "    # average marks of students\n",
    "    n = int(input())\n",
    "    s=[]\n",
    "    k=[]\n",
    "    d={}\n",
    "    suma=0\n",
    "    for i in range(0,n):\n",
    "        s=input().split()\n",
    "        k.append(s)\n",
    "    for i in range(0,len(k)):\n",
    "        d[k[i][0]]=k[i][1:]\n",
    "    j=str(input())\n",
    "    for i in range(0,len(d[j])):\n",
    "        suma=suma+float(d[j][i])\n",
    "print(suma/len(d[j]))\n",
    "    "
   ]
  },
  {
   "cell_type": "code",
   "execution_count": 23,
   "id": "14996b1d",
   "metadata": {},
   "outputs": [
    {
     "ename": "ValueError",
     "evalue": "Unknown format code 'a' for object of type 'str'",
     "output_type": "error",
     "traceback": [
      "\u001b[1;31m---------------------------------------------------------------------------\u001b[0m",
      "\u001b[1;31mValueError\u001b[0m                                Traceback (most recent call last)",
      "\u001b[1;32m<ipython-input-23-38962ecc9d1c>\u001b[0m in \u001b[0;36m<module>\u001b[1;34m\u001b[0m\n\u001b[0;32m      1\u001b[0m \u001b[0ms\u001b[0m\u001b[1;33m=\u001b[0m\u001b[1;34m\"aeiou\"\u001b[0m\u001b[1;33m\u001b[0m\u001b[1;33m\u001b[0m\u001b[0m\n\u001b[1;32m----> 2\u001b[1;33m \u001b[0ms\u001b[0m\u001b[1;33m.\u001b[0m\u001b[0m__format__\u001b[0m\u001b[1;33m(\u001b[0m\u001b[1;34m\"a\"\u001b[0m\u001b[1;33m)\u001b[0m\u001b[1;33m\u001b[0m\u001b[1;33m\u001b[0m\u001b[0m\n\u001b[0m",
      "\u001b[1;31mValueError\u001b[0m: Unknown format code 'a' for object of type 'str'"
     ]
    }
   ],
   "source": [
    "s=\"aeiou\"\n",
    "s.__format__(\"a\")"
   ]
  },
  {
   "cell_type": "code",
   "execution_count": 13,
   "id": "bee603d5",
   "metadata": {},
   "outputs": [
    {
     "name": "stdout",
     "output_type": "stream",
     "text": [
      "2\n",
      "aaaaa\n",
      "['a', 'a', 'a', 'a', 'a']\n"
     ]
    }
   ],
   "source": [
    "n=int(input())\n",
    "l=[]\n",
    "s=list(input())\n",
    "for i in range(0,len(s)):\n",
    "    a=s[0]\n",
    "    if s[i]==a:\n",
    "        l.append(s[i])\n",
    "if len(s)==len(l):\n",
    "    print(s)\n"
   ]
  },
  {
   "cell_type": "code",
   "execution_count": 5,
   "id": "61bc67b0",
   "metadata": {},
   "outputs": [
    {
     "name": "stdout",
     "output_type": "stream",
     "text": [
      "abcadac\n",
      "['a', 'b', 'c', 'a', 'd', 'a', 'c', 'cadac', 'ada']\n",
      "{'d', 'a', 'c'}\n",
      "['d', 'a', 'c']\n",
      "<class 'str'>\n"
     ]
    },
    {
     "ename": "IndexError",
     "evalue": "list index out of range",
     "output_type": "error",
     "traceback": [
      "\u001b[1;31m---------------------------------------------------------------------------\u001b[0m",
      "\u001b[1;31mIndexError\u001b[0m                                Traceback (most recent call last)",
      "\u001b[1;32m<ipython-input-5-a459c79855d4>\u001b[0m in \u001b[0;36m<module>\u001b[1;34m\u001b[0m\n\u001b[0;32m     22\u001b[0m \u001b[0mprint\u001b[0m\u001b[1;33m(\u001b[0m\u001b[0ml1\u001b[0m\u001b[1;33m)\u001b[0m\u001b[1;33m\u001b[0m\u001b[1;33m\u001b[0m\u001b[0m\n\u001b[0;32m     23\u001b[0m \u001b[1;32mfor\u001b[0m \u001b[0mi\u001b[0m \u001b[1;32min\u001b[0m \u001b[0mrange\u001b[0m\u001b[1;33m(\u001b[0m\u001b[1;36m0\u001b[0m\u001b[1;33m,\u001b[0m\u001b[0mlen\u001b[0m\u001b[1;33m(\u001b[0m\u001b[0ml1\u001b[0m\u001b[1;33m)\u001b[0m\u001b[1;33m)\u001b[0m\u001b[1;33m:\u001b[0m\u001b[1;33m\u001b[0m\u001b[1;33m\u001b[0m\u001b[0m\n\u001b[1;32m---> 24\u001b[1;33m     \u001b[1;32mif\u001b[0m \u001b[0mlen\u001b[0m\u001b[1;33m(\u001b[0m\u001b[0ml1\u001b[0m\u001b[1;33m[\u001b[0m\u001b[0mi\u001b[0m\u001b[1;33m]\u001b[0m\u001b[1;33m)\u001b[0m\u001b[1;33m>\u001b[0m\u001b[1;36m3\u001b[0m\u001b[1;33m:\u001b[0m\u001b[1;33m\u001b[0m\u001b[1;33m\u001b[0m\u001b[0m\n\u001b[0m\u001b[0;32m     25\u001b[0m         \u001b[0ml1\u001b[0m\u001b[1;33m[\u001b[0m\u001b[0mi\u001b[0m\u001b[1;33m]\u001b[0m\u001b[1;33m=\u001b[0m\u001b[0mset\u001b[0m\u001b[1;33m(\u001b[0m\u001b[0ml1\u001b[0m\u001b[1;33m[\u001b[0m\u001b[0mi\u001b[0m\u001b[1;33m]\u001b[0m\u001b[1;33m)\u001b[0m\u001b[1;33m\u001b[0m\u001b[1;33m\u001b[0m\u001b[0m\n\u001b[0;32m     26\u001b[0m         \u001b[0mprint\u001b[0m\u001b[1;33m(\u001b[0m\u001b[0ml1\u001b[0m\u001b[1;33m[\u001b[0m\u001b[0mi\u001b[0m\u001b[1;33m]\u001b[0m\u001b[1;33m)\u001b[0m\u001b[1;33m\u001b[0m\u001b[1;33m\u001b[0m\u001b[0m\n",
      "\u001b[1;31mIndexError\u001b[0m: list index out of range"
     ]
    }
   ],
   "source": [
    "l=[]\n",
    "s=input()\n",
    "l1=list(s)\n",
    "m=int(len(s))\n",
    "for j in range(1,m+1):\n",
    "    for i in range(3,len(s)+1):\n",
    "        l.append(s[:int(i)])\n",
    "    s=s[1:]\n",
    "for i in range(0,len(l)):\n",
    "    count=0\n",
    "    for j in range(0,len(l[i])):\n",
    "        k=l[i][0]\n",
    "        if l[i][j]==k:\n",
    "            count+=1\n",
    "    if count==len(l[i]):\n",
    "        l1.append(l[i])\n",
    "for i in range(0,len(l)):\n",
    "    d=l[i]\n",
    "    l[i]=l[i][::-1]\n",
    "    if d==l[i]:\n",
    "        l1.append(l[i])\n",
    "print(l1)\n",
    "for i in range(0,len(l1)):\n",
    "    if len(l1[i])>3:\n",
    "        l1[i]=set(l1[i])\n",
    "        print(l1[i])\n",
    "        l1[i]=list(l1[i])\n",
    "        print(l1[i])\n",
    "        l1[i]=str(l1[i])\n",
    "        print(type(l1[i]))\n",
    "        if len(l1[i])>2:\n",
    "            l1.remove(l1[i])\n",
    "        else:\n",
    "            continue\n",
    "    else :\n",
    "        continue\n",
    "l1        "
   ]
  },
  {
   "cell_type": "code",
   "execution_count": 15,
   "id": "b706a094",
   "metadata": {},
   "outputs": [
    {
     "data": {
      "text/plain": [
       "\"['a\""
      ]
     },
     "execution_count": 15,
     "metadata": {},
     "output_type": "execute_result"
    }
   ],
   "source": [
    "l1[7]\n",
    "l1[7]=list(l1[7])\n"
   ]
  },
  {
   "cell_type": "code",
   "execution_count": 5,
   "id": "920be59e",
   "metadata": {},
   "outputs": [
    {
     "name": "stdout",
     "output_type": "stream",
     "text": [
      "harsha\n",
      "arsha\n"
     ]
    }
   ],
   "source": [
    "l=input().strip(\"h\")\n",
    "print(l)"
   ]
  },
  {
   "cell_type": "code",
   "execution_count": 3,
   "id": "8c7465c1",
   "metadata": {},
   "outputs": [
    {
     "ename": "NameError",
     "evalue": "name 'strip' is not defined",
     "output_type": "error",
     "traceback": [
      "\u001b[1;31m---------------------------------------------------------------------------\u001b[0m",
      "\u001b[1;31mNameError\u001b[0m                                 Traceback (most recent call last)",
      "\u001b[1;32m<ipython-input-3-41826ae268e6>\u001b[0m in \u001b[0;36m<module>\u001b[1;34m\u001b[0m\n\u001b[1;32m----> 1\u001b[1;33m \u001b[0mhelp\u001b[0m\u001b[1;33m(\u001b[0m\u001b[0mstrip\u001b[0m\u001b[1;33m(\u001b[0m\u001b[1;33m)\u001b[0m\u001b[1;33m)\u001b[0m\u001b[1;33m\u001b[0m\u001b[1;33m\u001b[0m\u001b[0m\n\u001b[0m",
      "\u001b[1;31mNameError\u001b[0m: name 'strip' is not defined"
     ]
    }
   ],
   "source": []
  },
  {
   "cell_type": "code",
   "execution_count": 4,
   "id": "8b62df23",
   "metadata": {},
   "outputs": [],
   "source": [
    "from PIL import Image"
   ]
  },
  {
   "cell_type": "code",
   "execution_count": 6,
   "id": "3a72acb3",
   "metadata": {
    "scrolled": false
   },
   "outputs": [
    {
     "ename": "FileNotFoundError",
     "evalue": "[Errno 2] No such file or directory: 'ff.png'",
     "output_type": "error",
     "traceback": [
      "\u001b[1;31m---------------------------------------------------------------------------\u001b[0m",
      "\u001b[1;31mFileNotFoundError\u001b[0m                         Traceback (most recent call last)",
      "\u001b[1;32m<ipython-input-6-cc1211a19707>\u001b[0m in \u001b[0;36m<module>\u001b[1;34m\u001b[0m\n\u001b[1;32m----> 1\u001b[1;33m \u001b[0mimg\u001b[0m\u001b[1;33m=\u001b[0m\u001b[0mImage\u001b[0m\u001b[1;33m.\u001b[0m\u001b[0mopen\u001b[0m\u001b[1;33m(\u001b[0m\u001b[1;34m\"ff.png\"\u001b[0m\u001b[1;33m)\u001b[0m\u001b[1;33m\u001b[0m\u001b[1;33m\u001b[0m\u001b[0m\n\u001b[0m",
      "\u001b[1;32mE:\\ANACONDA1\\lib\\site-packages\\PIL\\Image.py\u001b[0m in \u001b[0;36mopen\u001b[1;34m(fp, mode, formats)\u001b[0m\n\u001b[0;32m   2910\u001b[0m \u001b[1;33m\u001b[0m\u001b[0m\n\u001b[0;32m   2911\u001b[0m     \u001b[1;32mif\u001b[0m \u001b[0mfilename\u001b[0m\u001b[1;33m:\u001b[0m\u001b[1;33m\u001b[0m\u001b[1;33m\u001b[0m\u001b[0m\n\u001b[1;32m-> 2912\u001b[1;33m         \u001b[0mfp\u001b[0m \u001b[1;33m=\u001b[0m \u001b[0mbuiltins\u001b[0m\u001b[1;33m.\u001b[0m\u001b[0mopen\u001b[0m\u001b[1;33m(\u001b[0m\u001b[0mfilename\u001b[0m\u001b[1;33m,\u001b[0m \u001b[1;34m\"rb\"\u001b[0m\u001b[1;33m)\u001b[0m\u001b[1;33m\u001b[0m\u001b[1;33m\u001b[0m\u001b[0m\n\u001b[0m\u001b[0;32m   2913\u001b[0m         \u001b[0mexclusive_fp\u001b[0m \u001b[1;33m=\u001b[0m \u001b[1;32mTrue\u001b[0m\u001b[1;33m\u001b[0m\u001b[1;33m\u001b[0m\u001b[0m\n\u001b[0;32m   2914\u001b[0m \u001b[1;33m\u001b[0m\u001b[0m\n",
      "\u001b[1;31mFileNotFoundError\u001b[0m: [Errno 2] No such file or directory: 'ff.png'"
     ]
    }
   ],
   "source": [
    "img=Image.open(\"ff.png\")"
   ]
  },
  {
   "cell_type": "code",
   "execution_count": 38,
   "id": "6e452b38",
   "metadata": {},
   "outputs": [
    {
     "data": {
      "text/plain": [
       "[<matplotlib.lines.Line2D at 0x1a32c8651c0>]"
      ]
     },
     "execution_count": 38,
     "metadata": {},
     "output_type": "execute_result"
    },
    {
     "data": {
      "image/png": "[encoded data removed]",
      "text/plain": [
       "<Figure size 432x288 with 1 Axes>"
      ]
     },
     "metadata": {
      "needs_background": "light"
     },
     "output_type": "display_data"
    }
   ],
   "source": [
    "import statistics\n",
    "import matplotlib.pyplot as plt\n",
    "estimates=[1,2,3,4,5,6,7,8,9,10,11,12,13,14,15,16,17,18,19,20]\n",
    "estimates=estimates[4:]\n",
    "estimates=estimates[:int(len(estimates))-4]\n",
    "for i in range(0,len(estimates)):\n",
    "    y=[5]\n",
    "plt.plot([estimates],[y],'go')\n",
    "plt.xlabel(\"hours\")\n",
    "plt.ylabel(\"work\")\n",
    "plt.plot(statistics.mean(estimates),[5],'bs')\n",
    "plt.plot(statistics.median(estimates),[5],'r^')"
   ]
  },
  {
   "cell_type": "code",
   "execution_count": 8,
   "id": "fd634bdc",
   "metadata": {},
   "outputs": [
    {
     "name": "stdout",
     "output_type": "stream",
     "text": [
      "hello player1 ,whats your nameharsha\n",
      "hello player2 ,whats your namesekhar\n",
      "its your turn harsha\n",
      "veror\n",
      "whats your answer harsharover\n",
      "nice! thats corret,you got one point\n",
      "press 1 to continue playing or else press 0 1\n",
      "its your turn sekhar\n",
      "cpyysgloo\n",
      "whats your answer sekharpsycology\n",
      "nice! thats corret,you got one point\n",
      "press 1 to continue playing or else press 0 0\n",
      "thanks for playing harsha and sekhar \n",
      "your scores are p1=1 and p2=1\n",
      "wow! thats draw\n"
     ]
    }
   ],
   "source": [
    "# word puzzle game for 2 players\n",
    "import random\n",
    "words=[\"mathematics\",\"water\",\"psycology\",\"dentist\",\"millinium\",\"hydra\",\"rover\",\"village\"]\n",
    "def original_word(words):\n",
    "    original_word=random.choice(words)\n",
    "    return(original_word)\n",
    "def jumbled_word(word):\n",
    "    jumbled_word=\"\".join(random.sample(word,len(word)))\n",
    "    return jumbled_word\n",
    "s2=0\n",
    "s1=0\n",
    "p1=input(\"hello player1 ,whats your name\")\n",
    "p2=input(\"hello player2 ,whats your name\")\n",
    "turn=0\n",
    "while(1):\n",
    "  if turn%2==0:\n",
    "        print(\"its your turn\",p1)\n",
    "        original=original_word(words)\n",
    "        print(jumbled_word(original))\n",
    "        user_word=input(\"whats your answer {}\".format(p1))\n",
    "        if user_word==original:\n",
    "            print(\"nice! thats corret,you got one point\")\n",
    "            s1=s1+1\n",
    "        else:\n",
    "            print(\"sorry,thats wrong it is:\",original)\n",
    "        play=int(input(\"press 1 to continue playing or else press 0 \"))\n",
    "        if play==0:\n",
    "            print(\"thanks for playing {} and {} \".format(p1,p2))\n",
    "            print(\"your scores are p1={} and p2={}\".format(s1,s2))\n",
    "            if s1>s2:\n",
    "                print(\"your are the winner\",p1)\n",
    "            if s1==s2:\n",
    "                print(\"wow! thats draw\")\n",
    "            if s1<s2 :\n",
    "                print(\"your are the winner\",p2)\n",
    "            break\n",
    "  else:\n",
    "        print(\"its your turn\",p2)\n",
    "        original=original_word(words)\n",
    "        print(jumbled_word(original))\n",
    "        user_word=input(\"whats your answer {}\".format(p2))\n",
    "        if user_word==original:\n",
    "            print(\"nice! thats corret,you got one point\")\n",
    "            s2=s2+1\n",
    "        else:\n",
    "            print(\"sorry,thats wrong it is:\",original)\n",
    "        play=int(input(\"press 1 to continue playing or else press 0 \"))\n",
    "        if play==0:\n",
    "            print(\"thanks for playing {} and {} \".format(p1,p2))\n",
    "            print(\"your scores are p1={} and p2={}\".format(s1,s2))\n",
    "            if s1>s2:\n",
    "                print(\"your are the winner\",p1)\n",
    "            if s1==s2:\n",
    "                print(\"wow! thats draw\")\n",
    "            if s1<s2 :\n",
    "                print(\"your are the winner\",p2)\n",
    "            break\n",
    "  turn+=1"
   ]
  },
  {
   "cell_type": "code",
   "execution_count": 9,
   "id": "f9c69c87",
   "metadata": {},
   "outputs": [
    {
     "name": "stdout",
     "output_type": "stream",
     "text": [
      "this is a test case\n"
     ]
    }
   ],
   "source": [
    "with open(\"file.txt\",\"r+\") as myfile:\n",
    "    print(myfile.read())\n",
    "    myfile.write(\"this is a test case\")\n",
    "myfile.close()"
   ]
  },
  {
   "cell_type": "code",
   "execution_count": null,
   "id": "0b35716d",
   "metadata": {},
   "outputs": [],
   "source": [
    "def virus():\n",
    "    people=[]\n",
    "    V=input(\"enter the virus\")\n",
    "    V.lower()\n",
    "    V=list(V)\n",
    "    V=dict.fromkeys(V)\n",
    "    V=list(V)\n",
    "    count=0\n",
    "    k=[]\n",
    "    N=int(input(\"how may people to test\"))\n",
    "    if N<=10:\n",
    "        for i in range(0,N):\n",
    "            people.append((input(\"enter blood compostion\")))\n",
    "            people[i]=people[i].lower()\n",
    "    for h in range(0,len(people)):\n",
    "        for i in range(0,len(people[h])):\n",
    "            for j in range(0,len(V)):\n",
    "                if people[h][i]==V[j]:\n",
    "                    k.append(V.index(V[j]))\n",
    "                    break\n",
    "        print(k)\n",
    "        for i in range(0,len(k)):\n",
    "            for j in range(0,len(k)-1):\n",
    "                if int(k[i])>int(k[j+1]):\n",
    "                    count+=1\n",
    "                    break\n",
    "            print(count)\n",
    "        if count==0:\n",
    "            print(\"POSITIVE\")\n",
    "        else:\n",
    "            print(\"NEGATIVE\")\n",
    "        k.clear()\n",
    "virus()"
   ]
  },
  {
   "cell_type": "code",
   "execution_count": 1,
   "id": "6e55fff5",
   "metadata": {},
   "outputs": [
    {
     "name": "stdout",
     "output_type": "stream",
     "text": [
      "coronavirus\n",
      "3\n",
      "crna\n",
      "POSITIVE\n",
      "virus\n",
      "POSITIVE\n",
      "vrics\n",
      "NEGATIVE\n"
     ]
    }
   ],
   "source": [
    "\"\"\"\n",
    "coronavirus\n",
    "3\n",
    "abcde\n",
    "crnas\n",
    "onarous\n",
    "\n",
    "\"\"\"\n",
    "# Iterative Python program to check if a\n",
    "# string is a subsequence of another string\n",
    "\n",
    "# Returns true if str1 is a subsequence of str2\n",
    "\n",
    "def main(str1, str2):\n",
    "    m = len(str1)\n",
    "    n = len(str2)\n",
    "\n",
    "    j = 0 # Index of str1\n",
    "    i = 0 # Index of str2\n",
    "\n",
    "    # Traverse both str1 and str2\n",
    "    # Compare the current character of str2 with\n",
    "    # first unmatched character of str1\n",
    "    # If matched, then move ahead in str1\n",
    "\n",
    "    while j < m and i < n:\n",
    "        if str1[j] == str2[i]:\n",
    "            j = j+1\n",
    "        i = i + 1\n",
    "\n",
    "    # If all characters of str1 matched,\n",
    "    # then j is equal to m\n",
    "    return j == m\n",
    "\n",
    "# Driver Program\n",
    "str2 = str(input())\n",
    "N = int(input())\n",
    "\n",
    "for i in range(N):\n",
    "    str1 = str(input())\n",
    "    if main(str1, str2):\n",
    "        print(\"POSITIVE\") \n",
    "    else:\n",
    "        print( \"NEGATIVE\")\n",
    "\n",
    "\n"
   ]
  },
  {
   "cell_type": "code",
   "execution_count": 1,
   "id": "79f1546c",
   "metadata": {},
   "outputs": [
    {
     "name": "stdout",
     "output_type": "stream",
     "text": [
      "hihithis is hema kumar\n"
     ]
    }
   ],
   "source": [
    "with open('file.txt',\"r+\") as f:\n",
    "    f1=f.read()\n",
    "    print(f1)"
   ]
  },
  {
   "cell_type": "code",
   "execution_count": 11,
   "id": "3c34edbf",
   "metadata": {},
   "outputs": [
    {
     "name": "stdout",
     "output_type": "stream",
     "text": [
      "3\n",
      "0 1 2 \n",
      "0 1 2 \n",
      "0 1 2 \n"
     ]
    }
   ],
   "source": [
    "n=int(input())\n",
    "square=[]\n",
    "for i in range(n):\n",
    "    l=[]\n",
    "    for j in range(n):\n",
    "        l.append(j)\n",
    "    square.append(l)\n",
    "for i in range(n):\n",
    "    for j in range(n):\n",
    "        print(int(square[i][j]),end=' ')\n",
    "    print()"
   ]
  },
  {
   "cell_type": "code",
   "execution_count": null,
   "id": "beb36e0d",
   "metadata": {},
   "outputs": [
    {
     "name": "stdout",
     "output_type": "stream",
     "text": [
      "1\n",
      "3\n",
      "['d', 'X', 'b', 'r', 'c']\n",
      "['t', 'I', 'M', 'X', 'Y']\n"
     ]
    }
   ],
   "source": [
    "# same symbols game\n",
    "import string\n",
    "import random\n",
    "group1=[0]*5\n",
    "group2=[0]*5\n",
    "symbols=(string.ascii_letters)\n",
    "symbols=list(symbols)\n",
    "val1=random.randint(0,4)\n",
    "print(val1)\n",
    "val2=random.randint(0,4)\n",
    "print(val2)\n",
    "samesymbol=random.choice(symbols)\n",
    "symbols.remove(samesymbol)\n",
    "if(val1==val2):\n",
    "    group1[val1]=samesymbol\n",
    "    group2[val1]=samesymbol\n",
    "else:\n",
    "    group1[val1]=samesymbol\n",
    "    group1[val2]=random.choice(symbols)\n",
    "    symbols.remove(group1[val2])\n",
    "    group2[val2]=samesymbol\n",
    "    group2[val1]=random.choice(symbols)\n",
    "    symbols.remove(group2[val1])\n",
    "i=0\n",
    "while(i<5):\n",
    "    if(i!=val1 and i!=val2):\n",
    "        symbol1=random.choice(symbols)\n",
    "        symbols.remove(symbol1)\n",
    "        symbol2=random.choice(symbols)\n",
    "        group1[i]=symbol1  #if we use append it will start adding elements from last but it will leave the first places\n",
    "        group2[i]=symbol2\n",
    "        symbols.remove(symbol2)\n",
    "        \n",
    "    i+=1\n",
    "print(group1)\n",
    "print(group2)\n",
    "char=input(\"enter the same value\")\n",
    "if char==samesymbol:\n",
    "    print(\"right\")\n",
    "else:\n",
    "    print(\"wrong\")"
   ]
  },
  {
   "cell_type": "code",
   "execution_count": 10,
   "id": "7e6f35bf",
   "metadata": {},
   "outputs": [
    {
     "name": "stdout",
     "output_type": "stream",
     "text": [
      "enter the year2016\n",
      "28/9\n",
      "15/6\n",
      "13/11\n",
      "7/7\n",
      "10/4\n",
      "22/7\n",
      "14/11\n",
      "27/12\n",
      "17/1\n",
      "12/9\n",
      "11/12\n",
      "3/4\n",
      "13/10\n",
      "5/11\n",
      "31/3\n",
      "19/8\n",
      "16/6\n",
      "13/9\n",
      "30/6\n",
      "28/5\n",
      "6/8\n",
      "18/9\n",
      "18/4\n",
      "6/7\n",
      "23/4\n",
      "28/6\n",
      "29/6\n",
      "12/6\n",
      "9/9\n",
      "9/7\n",
      "22/11\n",
      "11/12\n",
      "22/1\n",
      "8/4\n",
      "5/12\n",
      "17/10\n",
      "16/6\n",
      "28/2\n",
      "23/9\n",
      "19/6\n",
      "9/8\n",
      "11/1\n",
      "30/4\n",
      "5/7\n",
      "3/2\n",
      "19/5\n",
      "23/12\n",
      "22/8\n",
      "24/11\n",
      "23/10\n"
     ]
    }
   ],
   "source": [
    "# random birthday generator\n",
    "import random\n",
    "year=int(input(\"enter the year\"))\n",
    "if (year%4==0 and year%100!=0 or year%400==0):\n",
    "    leap=1\n",
    "else:\n",
    "    leap=0\n",
    "i=0\n",
    "while(i<50):\n",
    "    month=random.randint(1,12)\n",
    "    if month==2 and leap==1:\n",
    "        day=random.randint(1,29)\n",
    "    elif month==2 and leap==0:\n",
    "        day=random.randint(1,28)\n",
    "    elif month==7 and month==8:\n",
    "        day=random.randint(1,31)\n",
    "    elif month<7 and month%2!=0:\n",
    "        day=random.randint(1,31)\n",
    "    else:\n",
    "        day=random.randint(1,30)\n",
    "    print(\"{}/{}\".format(day,month))\n",
    "    i+=1"
   ]
  },
  {
   "cell_type": "code",
   "execution_count": null,
   "id": "83b15d74",
   "metadata": {},
   "outputs": [
    {
     "name": "stdout",
     "output_type": "stream",
     "text": [
      "enter player one nameharsha\n",
      "enter player two namesekhar\n",
      "harsha its your turn\n",
      "['_', '_', '_', '_', '_', '_', '_']\n",
      "['t', 'i', 't', 'a', 'n', 'i', 'c']\n",
      "titanic\n",
      "_ _ _ _ _ _ _\n",
      "enter the letter present in the moviet\n",
      "t _ _ _ _ _ _\n",
      "your score 1 out of 7\n",
      "if you know the name press 1 else 01\n",
      "enter the movie nametitanic\n",
      "thats corect\n",
      "enter 0 to continue else any num0\n",
      "sekhar its your turn\n",
      "['_', '_', '_', '_', '_', '_']\n",
      "['m', 'a', 't', 'r', 'i', 'x']\n",
      "matrix\n",
      "_ _ _ _ _ _\n"
     ]
    }
   ],
   "source": [
    "# guess the movie name\n",
    "import random\n",
    "movies=[\"jumanji\",\"titanic\",\"matrix\",\"battleship\"]\n",
    "def guess__the__movie():\n",
    "    movie1=random.choice(movies)\n",
    "    movie=list(movie1)\n",
    "    guessmovie=['_']*int(len(movie))\n",
    "    print(guessmovie)\n",
    "    print(movie)\n",
    "    print(movie1)\n",
    "    s=0\n",
    "    l=len(movie)\n",
    "    name=0\n",
    "    guessmovie1=\" \".join(guessmovie)\n",
    "    print(guessmovie1)\n",
    "    while(guessmovie1!=movie1):\n",
    "        h=0\n",
    "        k=str(input(\"enter the letter present in the movie\"))\n",
    "        if name==0:    \n",
    "            for i in range(0,l):\n",
    "                if k==str(movie[i]):\n",
    "                    h+=1\n",
    "                    guessmovie[i]=k\n",
    "                    guessmovie1=\" \".join(guessmovie)\n",
    "                    print(guessmovie1)\n",
    "                    movie[i]=0\n",
    "                    s+=1\n",
    "                    print('your score {} out of {}'.format(s,len(movie)))\n",
    "                    k=''\n",
    "            if h==0:\n",
    "                print(guessmovie1)\n",
    "                print(\"letter not in movie name\")\n",
    "        name=int(input(\"if you know the name press 1 else 0\"))\n",
    "        if name!=0:\n",
    "            find=input(\"enter the movie name\")\n",
    "            if find==movie1:\n",
    "                print('thats corect')\n",
    "                choice=int(input(\"enter 0 to continue else any num\"))\n",
    "                break\n",
    "p1=input(\"enter player one name\")\n",
    "p2=input(\"enter player two name\")\n",
    "c=2\n",
    "choice=0\n",
    "while(choice==0):\n",
    "    if c%2==0:\n",
    "        print(\"{} its your turn\".format(p1))\n",
    "        guess__the__movie()\n",
    "        c+=1\n",
    "    else:\n",
    "        print(\"{} its your turn\".format(p2))\n",
    "        guess__the__movie()\n",
    "        c+=1"
   ]
  },
  {
   "cell_type": "code",
   "execution_count": null,
   "id": "938318f5",
   "metadata": {},
   "outputs": [],
   "source": []
  }
 ],
 "metadata": {
  "kernelspec": {
   "display_name": "Python 3",
   "language": "python",
   "name": "python3"
  },
  "language_info": {
   "codemirror_mode": {
    "name": "ipython",
    "version": 3
   },
   "file_extension": ".py",
   "mimetype": "text/x-python",
   "name": "python",
   "nbconvert_exporter": "python",
   "pygments_lexer": "ipython3",
   "version": "3.8.8"
  }
 },
 "nbformat": 4,
 "nbformat_minor": 5
}
