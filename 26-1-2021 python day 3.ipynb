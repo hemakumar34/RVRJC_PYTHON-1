{
 "cells": [
  {
   "cell_type": "code",
   "execution_count": 21,
   "metadata": {},
   "outputs": [
    {
     "name": "stdout",
     "output_type": "stream",
     "text": [
      "enter number6\n",
      "6 not a perfet number\n",
      "3\n"
     ]
    }
   ],
   "source": [
    "a=int(input(\"enter number\"))\n",
    "sum=0\n",
    "for i in range(1,a-1):\n",
    "    if a%i==0:\n",
    "        sum=+i\n",
    "if sum==a:\n",
    "        print(a,\"is perfet number\")\n",
    "else:\n",
    "        print(a,\"not a perfet number\")\n",
    "print(sum)        "
   ]
  },
  {
   "cell_type": "code",
   "execution_count": 8,
   "metadata": {},
   "outputs": [],
   "source": [
    "i=10\n",
    "while i<=0:\n",
    "    print(i)\n",
    "    i-=1"
   ]
  },
  {
   "cell_type": "markdown",
   "metadata": {},
   "source": [
    "#break\n",
    "# continue"
   ]
  },
  {
   "cell_type": "code",
   "execution_count": 21,
   "metadata": {},
   "outputs": [
    {
     "ename": "IndentationError",
     "evalue": "unindent does not match any outer indentation level (<tokenize>, line 5)",
     "output_type": "error",
     "traceback": [
      "\u001b[1;36m  File \u001b[1;32m\"<tokenize>\"\u001b[1;36m, line \u001b[1;32m5\u001b[0m\n\u001b[1;33m    else :\u001b[0m\n\u001b[1;37m    ^\u001b[0m\n\u001b[1;31mIndentationError\u001b[0m\u001b[1;31m:\u001b[0m unindent does not match any outer indentation level\n"
     ]
    }
   ],
   "source": [
    "for i in range(1,10):\n",
    "     if i==5:\n",
    "            break\n",
    "             print(i)\n",
    "    else :\n",
    "            continue"
   ]
  },
  {
   "cell_type": "markdown",
   "metadata": {},
   "source": [
    "# functions"
   ]
  },
  {
   "cell_type": "markdown",
   "metadata": {},
   "source": [
    "# -block of codes to perform some operations \n",
    "  - advantages \n",
    "    - code reusability\n",
    "    -readability of pragram\n",
    "    -time saving\n",
    "# -type of funtions\n",
    "    - inbuilt functions\n",
    "   ## - user defined functions \n",
    "        ### syntax \n",
    "        - def function name(arguments)\n",
    "       \n",
    "    - special functions"
   ]
  },
  {
   "cell_type": "code",
   "execution_count": 25,
   "metadata": {},
   "outputs": [
    {
     "name": "stdout",
     "output_type": "stream",
     "text": [
      "9\n"
     ]
    }
   ],
   "source": [
    "# function delaration \n",
    "def add(a,b):\n",
    "    print(a+b) \n",
    "add(4,5)"
   ]
  },
  {
   "cell_type": "code",
   "execution_count": 26,
   "metadata": {},
   "outputs": [
    {
     "name": "stdout",
     "output_type": "stream",
     "text": [
      "-1\n"
     ]
    }
   ],
   "source": [
    "def sub(a,b):\n",
    "    print(a-b) \n",
    "sub(4,5)"
   ]
  },
  {
   "cell_type": "markdown",
   "metadata": {},
   "source": [
    "# user defined functions \n",
    " ##  based on return value \n",
    " - without arg and without return value\n",
    " - with arg and without return value\n",
    " - without arg and with return value\n",
    " - with arg and with return value"
   ]
  },
  {
   "cell_type": "code",
   "execution_count": 41,
   "metadata": {},
   "outputs": [
    {
     "name": "stdout",
     "output_type": "stream",
     "text": [
      "enter n value5\n",
      "5 is a factor of 10\n",
      "None\n"
     ]
    }
   ],
   "source": [
    "# without arg and without return value\n",
    "def f1():\n",
    "    n=int(input(\"enter n value\"))\n",
    "    if 10%n==0:\n",
    "        print(n, \"is a factor of 10\")\n",
    "    else:\n",
    "        print(n,\"not a factor\")\n",
    "n=f1()\n",
    "print(n)"
   ]
  },
  {
   "cell_type": "code",
   "execution_count": 42,
   "metadata": {},
   "outputs": [
    {
     "name": "stdout",
     "output_type": "stream",
     "text": [
      "enter n1 value67\n",
      "enter n2 value87\n",
      "308\n"
     ]
    }
   ],
   "source": [
    "def f2():\n",
    "    n1=int(input(\"enter n1 value\"))\n",
    "    n2=int(input(\"enter n2 value\"))\n",
    "    return n1,n2,n1+n2\n",
    "a,b,c=f2()\n",
    "print(a+b+c)"
   ]
  },
  {
   "cell_type": "code",
   "execution_count": null,
   "metadata": {},
   "outputs": [],
   "source": [
    "def f2():\n",
    "    n1=int(input(\"enter n1 value\"))\n",
    "    n2=int(input(\"enter n2 value\"))\n",
    "    return n1+n2,n1-n2,n1*n2,n1/n2,n1**n2\n",
    "add,sub,multi,divi,pow=f2()\n",
    "print(add,sub,multi,divi,pow)"
   ]
  },
  {
   "cell_type": "code",
   "execution_count": null,
   "metadata": {},
   "outputs": [],
   "source": [
    "|"
   ]
  }
 ],
 "metadata": {
  "kernelspec": {
   "display_name": "Python 3",
   "language": "python",
   "name": "python3"
  },
  "language_info": {
   "codemirror_mode": {
    "name": "ipython",
    "version": 3
   },
   "file_extension": ".py",
   "mimetype": "text/x-python",
   "name": "python",
   "nbconvert_exporter": "python",
   "pygments_lexer": "ipython3",
   "version": "3.7.3"
  }
 },
 "nbformat": 4,
 "nbformat_minor": 2
}
